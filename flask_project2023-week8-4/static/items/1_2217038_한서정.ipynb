{
  "nbformat": 4,
  "nbformat_minor": 0,
  "metadata": {
    "colab": {
      "provenance": []
    },
    "kernelspec": {
      "name": "python3",
      "display_name": "Python 3"
    },
    "language_info": {
      "name": "python"
    }
  },
  "cells": [
    {
      "cell_type": "code",
      "execution_count": 3,
      "metadata": {
        "colab": {
          "base_uri": "https://localhost:8080/"
        },
        "id": "NgRAlMcdRpB5",
        "outputId": "f84a6508-d8cd-4c42-8be4-24fddba25f4c"
      },
      "outputs": [
        {
          "output_type": "stream",
          "name": "stdout",
          "text": [
            "[1, 2, 3, 4, 'happy']\n",
            "happy\n",
            "4\n"
          ]
        }
      ],
      "source": [
        "#excercise 1 : list index\n",
        "a = [1,2,3,4,'happy'] #make a list\n",
        "print(a) # print the output of a\n",
        "print(a[4]) #print the output of a[4]\n",
        "print(a[-2]) #print the output of a[-2]"
      ]
    },
    {
      "cell_type": "code",
      "source": [
        "#excercise 2: list slicing\n",
        "a = [1,2,3,4,'happy'] #make a list\n",
        "print(a[0:2])#print the output of a[0:2]\n",
        "print(a[:])#print the output of a[:]\n",
        "print(a[2:])#print the output of a[2:]\n",
        "print(a[:3])#print the output of a[:3]"
      ],
      "metadata": {
        "colab": {
          "base_uri": "https://localhost:8080/"
        },
        "id": "l0ie87G7S_DE",
        "outputId": "900a6df0-af1c-481a-cf4d-b1d3a6081a07"
      },
      "execution_count": 4,
      "outputs": [
        {
          "output_type": "stream",
          "name": "stdout",
          "text": [
            "[1, 2]\n",
            "[1, 2, 3, 4, 'happy']\n",
            "[3, 4, 'happy']\n",
            "[1, 2, 3]\n"
          ]
        }
      ]
    },
    {
      "cell_type": "code",
      "source": [
        "#excercise 3: if statement\n",
        "bag = ['student ID card', 'money', 'card', 'iPad'] #make a list\n",
        "\n",
        "if 'student ID card' in bag: #if 'student ID card' is in list 'bag' print \"학교 출입 가능\"\n",
        "  print(\"학교 출입 가능\")\n",
        "else: #else print \"학교 출입 불가능\"\n",
        "  print(\"학교 출입 불가능\")\n",
        "\n",
        "if 'Phone' in bag: #if 'phone' is in list 'bag' print 전화 가능\n",
        "  print(\"전화 가능\")\n",
        "elif 'iPad' in bag: #else if 'iPad' element is in list 'bag' print 카카오톡 사용 가능\n",
        "  print(\"카카오톡 사용 가능\")\n",
        "else:#else print 가방에 전자기기 없음\n",
        "  print(\"가방에 전자기기 없음\")"
      ],
      "metadata": {
        "colab": {
          "base_uri": "https://localhost:8080/"
        },
        "id": "HcB-EQ5xTTsW",
        "outputId": "474f07a7-536c-4c87-bf0f-fc6279f4229c"
      },
      "execution_count": 10,
      "outputs": [
        {
          "output_type": "stream",
          "name": "stdout",
          "text": [
            "학교 출입 가능\n",
            "카카오톡 사용 가능\n"
          ]
        }
      ]
    },
    {
      "cell_type": "code",
      "source": [
        "#excercise 4: for loop\n",
        "#reference: https://seethefuture.tistory.com/82\n",
        "\n",
        "for i in range(10): #i is a integer 0~9\n",
        "  for j in range(10): #j is a integer 0~9\n",
        "    print(i,\"x\", j , \"=\", i*j ,end = \"    \") #print the resust in multiplication table shape, two tap between each multiplication\n",
        "  print(' ')#line break after printing out one line\n",
        "  print(' ')#add a space between lines"
      ],
      "metadata": {
        "colab": {
          "base_uri": "https://localhost:8080/"
        },
        "id": "yqRPoutrVhJD",
        "outputId": "53e717fe-0c4c-440b-ffbe-04f1ab5e0c2c"
      },
      "execution_count": 21,
      "outputs": [
        {
          "output_type": "stream",
          "name": "stdout",
          "text": [
            "0 x 0 = 0    0 x 1 = 0    0 x 2 = 0    0 x 3 = 0    0 x 4 = 0    0 x 5 = 0    0 x 6 = 0    0 x 7 = 0    0 x 8 = 0    0 x 9 = 0     \n",
            " \n",
            "1 x 0 = 0    1 x 1 = 1    1 x 2 = 2    1 x 3 = 3    1 x 4 = 4    1 x 5 = 5    1 x 6 = 6    1 x 7 = 7    1 x 8 = 8    1 x 9 = 9     \n",
            " \n",
            "2 x 0 = 0    2 x 1 = 2    2 x 2 = 4    2 x 3 = 6    2 x 4 = 8    2 x 5 = 10    2 x 6 = 12    2 x 7 = 14    2 x 8 = 16    2 x 9 = 18     \n",
            " \n",
            "3 x 0 = 0    3 x 1 = 3    3 x 2 = 6    3 x 3 = 9    3 x 4 = 12    3 x 5 = 15    3 x 6 = 18    3 x 7 = 21    3 x 8 = 24    3 x 9 = 27     \n",
            " \n",
            "4 x 0 = 0    4 x 1 = 4    4 x 2 = 8    4 x 3 = 12    4 x 4 = 16    4 x 5 = 20    4 x 6 = 24    4 x 7 = 28    4 x 8 = 32    4 x 9 = 36     \n",
            " \n",
            "5 x 0 = 0    5 x 1 = 5    5 x 2 = 10    5 x 3 = 15    5 x 4 = 20    5 x 5 = 25    5 x 6 = 30    5 x 7 = 35    5 x 8 = 40    5 x 9 = 45     \n",
            " \n",
            "6 x 0 = 0    6 x 1 = 6    6 x 2 = 12    6 x 3 = 18    6 x 4 = 24    6 x 5 = 30    6 x 6 = 36    6 x 7 = 42    6 x 8 = 48    6 x 9 = 54     \n",
            " \n",
            "7 x 0 = 0    7 x 1 = 7    7 x 2 = 14    7 x 3 = 21    7 x 4 = 28    7 x 5 = 35    7 x 6 = 42    7 x 7 = 49    7 x 8 = 56    7 x 9 = 63     \n",
            " \n",
            "8 x 0 = 0    8 x 1 = 8    8 x 2 = 16    8 x 3 = 24    8 x 4 = 32    8 x 5 = 40    8 x 6 = 48    8 x 7 = 56    8 x 8 = 64    8 x 9 = 72     \n",
            " \n",
            "9 x 0 = 0    9 x 1 = 9    9 x 2 = 18    9 x 3 = 27    9 x 4 = 36    9 x 5 = 45    9 x 6 = 54    9 x 7 = 63    9 x 8 = 72    9 x 9 = 81     \n",
            " \n"
          ]
        }
      ]
    },
    {
      "cell_type": "code",
      "source": [
        "import matplotlib.pyplot as plt\n",
        "import numpy as np\n",
        "\n",
        "# Set the style of the plot\n",
        "plt.style.use('_mpl-gallery')\n",
        "\n",
        "# Set the random seed for reproducibility\n",
        "np.random.seed(3)\n",
        "\n",
        "# Generate random data for x and y coordinates\n",
        "x = 4 + np.random.normal(0, 2, 24)  # Random x values with mean 4 and standard deviation 2, 24 the x-coordinate\n",
        "y = 4 + np.random.normal(0, 2, len(x))  # Random y values with mean 4 and standard deviation 2,24 the y-coordinate\n",
        "\n",
        "# Generate random sizes and colors for the data points\n",
        "sizes = np.random.uniform(15, 80, len(x))  # Random sizes between 15 and 80\n",
        "colors = np.random.uniform(15, 80, len(x))  # Random colors between 15 and 80\n",
        "\n",
        "# Create a figure and axes object\n",
        "fig, ax = plt.subplots()\n",
        "\n",
        "# Plot the scatter plot with the given data\n",
        "ax.scatter(x, y, s=sizes, c=colors, vmin=0, vmax=100)\n",
        "\n",
        "# Set the x-axis and y-axis limits and ticks\n",
        "ax.set(xlim=(0, 8), xticks=np.arange(1, 8), ylim=(0, 8), yticks=np.arange(1, 8))\n",
        "\n",
        "# Show the plot\n",
        "plt.show()\n",
        "\n"
      ],
      "metadata": {
        "colab": {
          "base_uri": "https://localhost:8080/",
          "height": 251
        },
        "id": "o-9bz3v6Xfy1",
        "outputId": "8d42b184-92a0-4165-8d96-fa875870ce50"
      },
      "execution_count": 22,
      "outputs": [
        {
          "output_type": "display_data",
          "data": {
            "text/plain": [
              "<Figure size 200x200 with 1 Axes>"
            ],
            "image/png": "[encoded data removed]"
          },
          "metadata": {}
        }
      ]
    },
    {
      "cell_type": "code",
      "source": [
        "import matplotlib.pyplot as plt\n",
        "import numpy as np\n",
        "\n",
        "# Set the style of the plot\n",
        "plt.style.use('_mpl-gallery-nogrid')\n",
        "\n",
        "# Make data: correlated + noise\n",
        "np.random.seed(1)\n",
        "x = np.random.randn(5000)  # Generate 5000 random values following a standard normal distribution for x\n",
        "y = 1.2 * x + np.random.randn(5000) / 3  # Generate y values that are correlated with x and add some random noise\n",
        "\n",
        "# Plot\n",
        "fig, ax = plt.subplots()\n",
        "\n",
        "# Create a 2D histogram using hist2d\n",
        "# The 'bins' parameter specifies the bin edges for both x and y axes\n",
        "ax.hist2d(x, y, bins=(np.arange(-3, 3, 0.1), np.arange(-3, 3, 0.1)))\n",
        "\n",
        "# Set the x-axis and y-axis limits\n",
        "ax.set(xlim=(-2, 2), ylim=(-3, 3))\n",
        "\n",
        "# Show the plot\n",
        "plt.show()\n"
      ],
      "metadata": {
        "colab": {
          "base_uri": "https://localhost:8080/",
          "height": 257
        },
        "id": "gI_DNLgYXmGf",
        "outputId": "7441b1ed-f2b8-464e-9dc6-6584c45bddf2"
      },
      "execution_count": 23,
      "outputs": [
        {
          "output_type": "display_data",
          "data": {
            "text/plain": [
              "<Figure size 200x200 with 1 Axes>"
            ],
            "image/png": "[encoded data removed]"
          },
          "metadata": {}
        }
      ]
    }
  ]
}